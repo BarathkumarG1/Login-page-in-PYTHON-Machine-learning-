{
 "cells": [
  {
   "cell_type": "code",
   "execution_count": 1,
   "id": "6ddc56ca",
   "metadata": {},
   "outputs": [],
   "source": [
    ">>> from tkinter import * \n",
    ">>> from functools import partial\n",
    ">>> root=Tk()\n",
    ">>> root.title(\"REGISTRATION PAGE\")\n",
    ">>> root.geometry(\"500x500\")\n",
    "\n",
    "def getvals():\n",
    "    print(\"accepted\")\n",
    "    #phonevalue= StringVar\n",
    "    #gendervalue= StringVar\n",
    "    #qualificationvalue= StringVar\n",
    "    #paymentmodevalue= StringVar\n",
    "    \n",
    "''\n",
    ">>> Label(root,text=\"PYTHON REGISTRATION FORM\",font=\"arial 15 bold\").grid(row=0,column=3)\n",
    ">>> name = Label(root, text=\"NAME\")\n",
    ">>> phone =Label(root, text=\"PHONE NO\")\n",
    ">>> gender=Label(root, text=\"GENDER\")\n",
    ">>> qualification=Label(root, text=\"QUALIFICATION\")\n",
    ">>> paymentmode=Label(root, text=\"PAYMENT MODE\")\n",
    ">>> \n",
    "\n",
    ">>> name.grid(row=1,column=2)\n",
    ">>> phone.grid(row=2,column=2)\n",
    ">>> gender.grid(row=3,column=2)\n",
    ">>> qualification.grid(row=4,column=2)\n",
    ">>> paymentmode.grid(row=5,column=2)\n",
    "    \n",
    " \n",
    ">>> namevalue= StringVar\n",
    ">>> phonevalue= IntVar\n",
    ">>> gendervalue= StringVar\n",
    ">>> qualificationvalue= StringVar\n",
    ">>> paymentmodevalue= StringVar\n",
    "\n",
    ">>> checkvalue= IntVar\n",
    ">>> nameentry= Entry(root,textvariable=namevalue)\n",
    ">>> phoneentry= Entry(root,textvariable=phonevalue)\n",
    ">>> genderentry=Entry(root,textvariable=gendervalue)\n",
    ">>> qualificationentry= Entry(root,textvariable=qualificationvalue)\n",
    ">>> paymentmodeentry= Entry(root,textvariable=paymentmodevalue)\n",
    "\n",
    ">>> nameentry.grid(row=1,column=3)\n",
    ">>> phoneentry.grid(row=2,column=3)\n",
    ">>> genderentry.grid(row=3,column=3)\n",
    ">>> qualificationentry.grid(row=4,column=3)\n",
    ">>> paymentmodeentry.grid(row=5,column=3)\n",
    "\n",
    "\n",
    "\n",
    ">>> checkbtn=Checkbutton(text=\"remember me?\", variable=checkvalue)\n",
    ">>> checkbtn.grid(row=6,column=3)\n",
    ">>> Button(root,text=\"SUBMIT\",command=getvals).grid(row=7,column=3)\n",
    "\n",
    "root.mainloop()\n"
   ]
  },
  {
   "cell_type": "code",
   "execution_count": null,
   "id": "091a0f2f",
   "metadata": {},
   "outputs": [],
   "source": []
  },
  {
   "cell_type": "code",
   "execution_count": null,
   "id": "3ee9bba5",
   "metadata": {},
   "outputs": [],
   "source": []
  }
 ],
 "metadata": {
  "kernelspec": {
   "display_name": "Python 3",
   "language": "python",
   "name": "python3"
  },
  "language_info": {
   "codemirror_mode": {
    "name": "ipython",
    "version": 3
   },
   "file_extension": ".py",
   "mimetype": "text/x-python",
   "name": "python",
   "nbconvert_exporter": "python",
   "pygments_lexer": "ipython3",
   "version": "3.8.8"
  }
 },
 "nbformat": 4,
 "nbformat_minor": 5
}
